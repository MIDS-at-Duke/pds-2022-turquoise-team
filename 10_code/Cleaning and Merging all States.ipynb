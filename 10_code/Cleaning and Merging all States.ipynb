{
 "cells": [
  {
   "attachments": {},
   "cell_type": "markdown",
   "metadata": {},
   "source": [
    "# In this notebook we clean and merge data correctly at the county level"
   ]
  },
  {
   "attachments": {},
   "cell_type": "markdown",
   "metadata": {},
   "source": [
    "## Texas"
   ]
  },
  {
   "cell_type": "code",
   "execution_count": 1,
   "metadata": {},
   "outputs": [],
   "source": [
    "import pandas as pd\n",
    "\n",
    "df1 = pd.read_table('/workspaces/pds-2022-turquoise-team/00_source_data/mortality for texas.txt')\n",
    "df2 = pd.read_csv('/workspaces/pds-2022-turquoise-team/00_source_data/state county population.csv')\n",
    "df1['Year County Code Combo'] = df1['County Code'].astype(str) + df1['Year'].astype(str)\n",
    "df2 ['Year County Code Combo'] = df1['County Code'].astype(str) + df1['Year'].astype(str)\n",
    "to_add_df = df1.merge(df2,indicator = True, on= 'Year County Code Combo', how='outer')\n",
    "to_add_df = to_add_df.drop(columns=['Notes', 'State_x', 'State Code_x', 'County_x', 'Year_x', 'Year Code_x', 'Cause of death', 'Cause of death Code', 'Year Code_y','Crude Rate', 'State Code_y', 'County Code_x', 'Population_x', 'Year County Code Combo','County Code_y'  \n",
    "])\n",
    "to_add_df['Deaths'] =  to_add_df['Deaths'].fillna('5')\n",
    "to_add_df = to_add_df[to_add_df['Population_y'] != 'Missing']\n",
    "to_add_df['Death Rate'] = (to_add_df['Deaths'].astype('int')/to_add_df['Population_y'].astype('int'))*100000\n",
    "to_add_df = to_add_df.rename(columns={\"State_y\": \"State\", \"County_y\": \"County\", \"Year_y\": \"Year\", \"Population_y\": \"Population\"})\n",
    "to_add_df['Year'] = to_add_df['Year'].astype(int)\n",
    "\n",
    "def label_row(row): \n",
    "    if row['Year'] == 2004:\n",
    "        return -3\n",
    "    if row['Year'] == 2005: \n",
    "        return -2\n",
    "    if row['Year'] == 2006:\n",
    "        return -1\n",
    "    if row['Year'] == 2007: \n",
    "        return 0\n",
    "    if row['Year'] == 2008: \n",
    "        return 1\n",
    "    if row['Year'] == 2009: \n",
    "        return 2\n",
    "to_add_df['Years since policy'] = to_add_df.apply (lambda row: label_row(row), axis = 1) \n",
    "\n",
    "def label_row1(row): \n",
    "    if row['State'] == 'Texas':\n",
    "        return 'Policy'\n",
    "    else:\n",
    "        return 'Control'\n",
    "to_add_df['Policy or Control'] = to_add_df.apply (lambda row: label_row1(row), axis = 1) \n",
    "\n",
    "we_want_texas = ['Arkansas', 'California', 'Georgia', 'Missouri', 'New York', 'Wyoming', 'Texas']\n",
    "to_add_df= to_add_df[to_add_df['State'].isin(we_want_texas)]\n",
    "\n",
    "to_add_df.to_csv('/workspaces/pds-2022-turquoise-team/00_source_data/texas_all_data_all_counties_final_fr.csv')"
   ]
  },
  {
   "attachments": {},
   "cell_type": "markdown",
   "metadata": {},
   "source": [
    "## Florida"
   ]
  },
  {
   "cell_type": "code",
   "execution_count": 2,
   "metadata": {},
   "outputs": [],
   "source": [
    "import pandas as pd\n",
    "df1 = pd.read_csv('../20_intermediate_files/vital_stats_merged.csv')\n",
    "df2 = pd.read_csv('/workspaces/pds-2022-turquoise-team/00_source_data/state county population.csv')\n",
    "df1['Year County Code Combo'] = df1['County Code'].astype(str) + df1['Year'].astype(str)\n",
    "df2 ['Year County Code Combo'] = df1['County Code'].astype(str) + df1['Year'].astype(str)\n",
    "to_add_df = df1.merge(df2,indicator = True, on= 'Year County Code Combo', how='outer')#.loc[lambda x : x['_merge']=='right_only']\n",
    "to_add_df = to_add_df.drop(columns=['State_x', 'Unnamed: 0', 'County Name', 'State Code_x', 'State_Code', 'Year Code', 'County_x', 'Year_x', 'Cause of death', 'Cause of death Code', 'Crude Rate', 'State Code_y', 'County Code_x', 'Population_x', 'Year County Code Combo','County Code_y'  \n",
    "])\n",
    "to_add_df['Deaths'] =  to_add_df['Deaths'].fillna('5')\n",
    "to_add_df = to_add_df[to_add_df['Population_y'] != 'Missing']\n",
    "to_add_df['Death Rate'] = (to_add_df['Deaths'].astype('int')/to_add_df['Population_y'].astype('int'))*100000\n",
    "to_add_df = to_add_df.rename(columns={\"State_y\": \"State\", \"County_y\": \"County\", \"Year_y\": \"Year\", \"Population_y\": \"Population\"})\n",
    "to_add_df['Year'] = to_add_df['Year'].astype(int)\n",
    "\n",
    "def label_row(row): \n",
    "    if row['Year'] == 2007:\n",
    "        return -3\n",
    "    if row['Year'] == 2008: \n",
    "        return -2\n",
    "    if row['Year'] == 2009:\n",
    "        return -1\n",
    "    if row['Year'] == 2010: \n",
    "        return 0\n",
    "    if row['Year'] == 2011: \n",
    "        return 1\n",
    "    if row['Year'] == 2012: \n",
    "        return 2\n",
    "to_add_df['Years since policy'] = to_add_df.apply (lambda row: label_row(row), axis = 1) \n",
    "\n",
    "def label_row1(row): \n",
    "    if row['State'] == 'Florida':\n",
    "        return 'Policy'\n",
    "    else:\n",
    "        return 'Control'\n",
    "to_add_df['Policy or Control'] = to_add_df.apply (lambda row: label_row1(row), axis = 1) \n",
    "\n",
    "\n",
    "we_want_florida = ['California', 'Nevada', 'New York', 'Florida']\n",
    "to_add_df = to_add_df[to_add_df['State'].isin(we_want_florida)]\n",
    "\n",
    "to_add_df.to_csv('/workspaces/pds-2022-turquoise-team/00_source_data/florida_all_data_all_counties_final_fr.csv')"
   ]
  },
  {
   "attachments": {},
   "cell_type": "markdown",
   "metadata": {},
   "source": [
    "## Washington"
   ]
  },
  {
   "cell_type": "code",
   "execution_count": 16,
   "metadata": {},
   "outputs": [],
   "source": [
    "import pandas as pd\n",
    "df1 = pd.read_table('../00_source_data/mortality for washington.txt')\n",
    "df2 = pd.read_csv('/workspaces/pds-2022-turquoise-team/00_source_data/state county population.csv')\n",
    "df1['Year County Code Combo'] = df1['County Code'].astype(str) + df1['Year'].astype(str)\n",
    "df2 ['Year County Code Combo'] = df1['County Code'].astype(str) + df1['Year'].astype(str)\n",
    "to_add_df = df1.merge(df2,indicator = True, on= 'Year County Code Combo', how='outer')\n",
    "to_add_df = to_add_df.drop(columns=['Notes', 'Year Code_x', 'Year Code_y', 'State_x', 'State Code_x', 'County_x', 'Year_x', 'Cause of death', 'Cause of death Code', 'Crude Rate', 'State Code_y', 'County Code_x', 'Population_x', 'Year County Code Combo','County Code_y'  \n",
    "])\n",
    "to_add_df['Deaths'] =  to_add_df['Deaths'].fillna('5')\n",
    "to_add_df = to_add_df[to_add_df['Population_y'] != 'Missing']\n",
    "to_add_df['Death Rate'] = (to_add_df['Deaths'].astype('int')/to_add_df['Population_y'].astype('int'))*100000\n",
    "to_add_df = to_add_df.rename(columns={\"State_y\": \"State\", \"County_y\": \"County\", \"Year_y\": \"Year\", \"Population_y\": \"Population\"})\n",
    "## Death rate is per 100,000\n",
    "\n",
    "to_add_df['Year'] = to_add_df['Year'].astype(int)\n",
    "def label_row(row): \n",
    "    if row['Year'] == 2009:\n",
    "        return -3\n",
    "    if row['Year'] == 2010: \n",
    "        return -2\n",
    "    if row['Year'] == 2011:\n",
    "        return -1\n",
    "    if row['Year'] == 2012: \n",
    "        return 0\n",
    "    if row['Year'] == 2013: \n",
    "        return 1\n",
    "    if row['Year'] == 2014: \n",
    "        return 2\n",
    "to_add_df['Years since policy'] = to_add_df.apply (lambda row: label_row(row), axis = 1) \n",
    "\n",
    "def label_row1(row): \n",
    "    if row['State'] == 'Washington':\n",
    "        return 'Policy'\n",
    "    else:\n",
    "        return 'Control'\n",
    "to_add_df['Policy or Control'] = to_add_df.apply (lambda row: label_row1(row), axis = 1) \n",
    "\n",
    "we_want_washington = ['Alaska', 'Hawaii', 'Iowa', 'Kansas', 'Maine', 'Massachusetts',\n",
    "       'Minnesota', 'Montana', 'Nebraska', 'North Dakota', 'Oregon',\n",
    "       'South Dakota', 'Virginia', 'Wyoming', 'Washington']\n",
    "to_add_df = to_add_df[to_add_df['State'].isin(we_want_washington)]\n",
    "\n",
    "to_add_df.to_csv('/workspaces/pds-2022-turquoise-team/00_source_data/washington_all_data_all_counties_final_fr.csv')"
   ]
  },
  {
   "cell_type": "code",
   "execution_count": null,
   "metadata": {},
   "outputs": [],
   "source": []
  }
 ],
 "metadata": {
  "kernelspec": {
   "display_name": "Python 3",
   "language": "python",
   "name": "python3"
  },
  "language_info": {
   "codemirror_mode": {
    "name": "ipython",
    "version": 3
   },
   "file_extension": ".py",
   "mimetype": "text/x-python",
   "name": "python",
   "nbconvert_exporter": "python",
   "pygments_lexer": "ipython3",
   "version": "3.10.4"
  },
  "orig_nbformat": 4,
  "vscode": {
   "interpreter": {
    "hash": "3ad933181bd8a04b432d3370b9dc3b0662ad032c4dfaa4e4f1596c548f763858"
   }
  }
 },
 "nbformat": 4,
 "nbformat_minor": 2
}
