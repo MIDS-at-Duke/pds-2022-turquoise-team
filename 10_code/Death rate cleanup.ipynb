{
 "cells": [
  {
   "cell_type": "markdown",
   "metadata": {},
   "source": [
    "# Death Rate Data Cleanup"
   ]
  },
  {
   "cell_type": "markdown",
   "metadata": {},
   "source": [
    "#### In this notebook we are collasping the underlying cause of death dataset from the CDC Wonder Database to create our death rate metric. \n",
    "<center> The death rate metric is defined as: </center>\n",
    "<center> (Deaths/Population)*100,000</center>\n"
   ]
  },
  {
   "cell_type": "markdown",
   "metadata": {},
   "source": [
    "#### So, this is the number of people who have an underlying cause of death related to opioids per 100,000 people."
   ]
  },
  {
   "cell_type": "code",
   "execution_count": 26,
   "metadata": {},
   "outputs": [
    {
     "data": {
      "text/html": [
       "<div>\n",
       "<style scoped>\n",
       "    .dataframe tbody tr th:only-of-type {\n",
       "        vertical-align: middle;\n",
       "    }\n",
       "\n",
       "    .dataframe tbody tr th {\n",
       "        vertical-align: top;\n",
       "    }\n",
       "\n",
       "    .dataframe thead th {\n",
       "        text-align: right;\n",
       "    }\n",
       "</style>\n",
       "<table border=\"1\" class=\"dataframe\">\n",
       "  <thead>\n",
       "    <tr style=\"text-align: right;\">\n",
       "      <th></th>\n",
       "      <th>Unnamed: 0</th>\n",
       "      <th>Year</th>\n",
       "      <th>State</th>\n",
       "      <th>State Code</th>\n",
       "      <th>County</th>\n",
       "      <th>County Code</th>\n",
       "      <th>Cause of death</th>\n",
       "      <th>Cause of death Code</th>\n",
       "      <th>Deaths</th>\n",
       "      <th>Population</th>\n",
       "      <th>County Name</th>\n",
       "      <th>State_Code</th>\n",
       "    </tr>\n",
       "  </thead>\n",
       "  <tbody>\n",
       "    <tr>\n",
       "      <th>0</th>\n",
       "      <td>32</td>\n",
       "      <td>2007</td>\n",
       "      <td>Arkansas</td>\n",
       "      <td>5.0</td>\n",
       "      <td>Garland County, AR</td>\n",
       "      <td>5051.0</td>\n",
       "      <td>Poisoning by and exposure to other and unspeci...</td>\n",
       "      <td>Y14</td>\n",
       "      <td>12.0</td>\n",
       "      <td>94753.0</td>\n",
       "      <td>Garland County</td>\n",
       "      <td>AR</td>\n",
       "    </tr>\n",
       "    <tr>\n",
       "      <th>1</th>\n",
       "      <td>33</td>\n",
       "      <td>2007</td>\n",
       "      <td>Arkansas</td>\n",
       "      <td>5.0</td>\n",
       "      <td>Pulaski County, AR</td>\n",
       "      <td>5119.0</td>\n",
       "      <td>Poisoning by and exposure to other and unspeci...</td>\n",
       "      <td>Y14</td>\n",
       "      <td>11.0</td>\n",
       "      <td>373403.0</td>\n",
       "      <td>Pulaski County</td>\n",
       "      <td>AR</td>\n",
       "    </tr>\n",
       "    <tr>\n",
       "      <th>2</th>\n",
       "      <td>34</td>\n",
       "      <td>2007</td>\n",
       "      <td>Arkansas</td>\n",
       "      <td>5.0</td>\n",
       "      <td>Sebastian County, AR</td>\n",
       "      <td>5131.0</td>\n",
       "      <td>Accidental poisoning by and exposure to other ...</td>\n",
       "      <td>X44</td>\n",
       "      <td>10.0</td>\n",
       "      <td>122946.0</td>\n",
       "      <td>Sebastian County</td>\n",
       "      <td>AR</td>\n",
       "    </tr>\n",
       "    <tr>\n",
       "      <th>3</th>\n",
       "      <td>35</td>\n",
       "      <td>2007</td>\n",
       "      <td>Arkansas</td>\n",
       "      <td>5.0</td>\n",
       "      <td>Sebastian County, AR</td>\n",
       "      <td>5131.0</td>\n",
       "      <td>Poisoning by and exposure to other and unspeci...</td>\n",
       "      <td>Y14</td>\n",
       "      <td>11.0</td>\n",
       "      <td>122946.0</td>\n",
       "      <td>Sebastian County</td>\n",
       "      <td>AR</td>\n",
       "    </tr>\n",
       "    <tr>\n",
       "      <th>4</th>\n",
       "      <td>36</td>\n",
       "      <td>2007</td>\n",
       "      <td>California</td>\n",
       "      <td>6.0</td>\n",
       "      <td>Alameda County, CA</td>\n",
       "      <td>6001.0</td>\n",
       "      <td>Accidental poisoning by and exposure to antiep...</td>\n",
       "      <td>X41</td>\n",
       "      <td>17.0</td>\n",
       "      <td>1455715.0</td>\n",
       "      <td>Alameda County</td>\n",
       "      <td>CA</td>\n",
       "    </tr>\n",
       "    <tr>\n",
       "      <th>...</th>\n",
       "      <td>...</td>\n",
       "      <td>...</td>\n",
       "      <td>...</td>\n",
       "      <td>...</td>\n",
       "      <td>...</td>\n",
       "      <td>...</td>\n",
       "      <td>...</td>\n",
       "      <td>...</td>\n",
       "      <td>...</td>\n",
       "      <td>...</td>\n",
       "      <td>...</td>\n",
       "      <td>...</td>\n",
       "    </tr>\n",
       "    <tr>\n",
       "      <th>1585</th>\n",
       "      <td>4750</td>\n",
       "      <td>2012</td>\n",
       "      <td>Virginia</td>\n",
       "      <td>51.0</td>\n",
       "      <td>Norfolk city, VA</td>\n",
       "      <td>51710.0</td>\n",
       "      <td>Accidental poisoning by and exposure to other ...</td>\n",
       "      <td>X44</td>\n",
       "      <td>11.0</td>\n",
       "      <td>245782.0</td>\n",
       "      <td>Norfolk city</td>\n",
       "      <td>VA</td>\n",
       "    </tr>\n",
       "    <tr>\n",
       "      <th>1586</th>\n",
       "      <td>4751</td>\n",
       "      <td>2012</td>\n",
       "      <td>Virginia</td>\n",
       "      <td>51.0</td>\n",
       "      <td>Richmond city, VA</td>\n",
       "      <td>51760.0</td>\n",
       "      <td>Accidental poisoning by and exposure to narcot...</td>\n",
       "      <td>X42</td>\n",
       "      <td>20.0</td>\n",
       "      <td>210309.0</td>\n",
       "      <td>Richmond city</td>\n",
       "      <td>VA</td>\n",
       "    </tr>\n",
       "    <tr>\n",
       "      <th>1587</th>\n",
       "      <td>4752</td>\n",
       "      <td>2012</td>\n",
       "      <td>Virginia</td>\n",
       "      <td>51.0</td>\n",
       "      <td>Virginia Beach city, VA</td>\n",
       "      <td>51810.0</td>\n",
       "      <td>Accidental poisoning by and exposure to narcot...</td>\n",
       "      <td>X42</td>\n",
       "      <td>10.0</td>\n",
       "      <td>447021.0</td>\n",
       "      <td>Virginia Beach city</td>\n",
       "      <td>VA</td>\n",
       "    </tr>\n",
       "    <tr>\n",
       "      <th>1588</th>\n",
       "      <td>4753</td>\n",
       "      <td>2012</td>\n",
       "      <td>Virginia</td>\n",
       "      <td>51.0</td>\n",
       "      <td>Virginia Beach city, VA</td>\n",
       "      <td>51810.0</td>\n",
       "      <td>Accidental poisoning by and exposure to other ...</td>\n",
       "      <td>X44</td>\n",
       "      <td>12.0</td>\n",
       "      <td>447021.0</td>\n",
       "      <td>Virginia Beach city</td>\n",
       "      <td>VA</td>\n",
       "    </tr>\n",
       "    <tr>\n",
       "      <th>1589</th>\n",
       "      <td>4799</td>\n",
       "      <td>2012</td>\n",
       "      <td>Wyoming</td>\n",
       "      <td>56.0</td>\n",
       "      <td>Laramie County, WY</td>\n",
       "      <td>56021.0</td>\n",
       "      <td>Accidental poisoning by and exposure to other ...</td>\n",
       "      <td>X44</td>\n",
       "      <td>11.0</td>\n",
       "      <td>94483.0</td>\n",
       "      <td>Laramie County</td>\n",
       "      <td>WY</td>\n",
       "    </tr>\n",
       "  </tbody>\n",
       "</table>\n",
       "<p>1590 rows × 12 columns</p>\n",
       "</div>"
      ],
      "text/plain": [
       "      Unnamed: 0  Year       State  State Code                   County  \\\n",
       "0             32  2007    Arkansas         5.0       Garland County, AR   \n",
       "1             33  2007    Arkansas         5.0       Pulaski County, AR   \n",
       "2             34  2007    Arkansas         5.0     Sebastian County, AR   \n",
       "3             35  2007    Arkansas         5.0     Sebastian County, AR   \n",
       "4             36  2007  California         6.0       Alameda County, CA   \n",
       "...          ...   ...         ...         ...                      ...   \n",
       "1585        4750  2012    Virginia        51.0         Norfolk city, VA   \n",
       "1586        4751  2012    Virginia        51.0        Richmond city, VA   \n",
       "1587        4752  2012    Virginia        51.0  Virginia Beach city, VA   \n",
       "1588        4753  2012    Virginia        51.0  Virginia Beach city, VA   \n",
       "1589        4799  2012     Wyoming        56.0       Laramie County, WY   \n",
       "\n",
       "      County Code                                     Cause of death  \\\n",
       "0          5051.0  Poisoning by and exposure to other and unspeci...   \n",
       "1          5119.0  Poisoning by and exposure to other and unspeci...   \n",
       "2          5131.0  Accidental poisoning by and exposure to other ...   \n",
       "3          5131.0  Poisoning by and exposure to other and unspeci...   \n",
       "4          6001.0  Accidental poisoning by and exposure to antiep...   \n",
       "...           ...                                                ...   \n",
       "1585      51710.0  Accidental poisoning by and exposure to other ...   \n",
       "1586      51760.0  Accidental poisoning by and exposure to narcot...   \n",
       "1587      51810.0  Accidental poisoning by and exposure to narcot...   \n",
       "1588      51810.0  Accidental poisoning by and exposure to other ...   \n",
       "1589      56021.0  Accidental poisoning by and exposure to other ...   \n",
       "\n",
       "     Cause of death Code  Deaths  Population          County Name State_Code  \n",
       "0                    Y14    12.0     94753.0       Garland County         AR  \n",
       "1                    Y14    11.0    373403.0       Pulaski County         AR  \n",
       "2                    X44    10.0    122946.0     Sebastian County         AR  \n",
       "3                    Y14    11.0    122946.0     Sebastian County         AR  \n",
       "4                    X41    17.0   1455715.0       Alameda County         CA  \n",
       "...                  ...     ...         ...                  ...        ...  \n",
       "1585                 X44    11.0    245782.0         Norfolk city         VA  \n",
       "1586                 X42    20.0    210309.0        Richmond city         VA  \n",
       "1587                 X42    10.0    447021.0  Virginia Beach city         VA  \n",
       "1588                 X44    12.0    447021.0  Virginia Beach city         VA  \n",
       "1589                 X44    11.0     94483.0       Laramie County         WY  \n",
       "\n",
       "[1590 rows x 12 columns]"
      ]
     },
     "execution_count": 26,
     "metadata": {},
     "output_type": "execute_result"
    }
   ],
   "source": [
    "import pandas as pd\n",
    "df = pd.read_csv('/workspaces/pds-2022-turquoise-team/00_source_data/vital_stats_merged_1.csv')\n",
    "df.drop(['Crude Rate'], axis = 1)\n"
   ]
  },
  {
   "cell_type": "code",
   "execution_count": 27,
   "metadata": {},
   "outputs": [
    {
     "data": {
      "text/plain": [
       "array(['Arkansas', 'California', 'Georgia', 'Hawaii', 'Iowa', 'Kansas',\n",
       "       'Maine', 'Massachusetts', 'Minnesota', 'Mississippi', 'Nebraska',\n",
       "       'Nevada', 'New York', 'Oregon', 'Texas', 'Virginia', 'Montana',\n",
       "       'Wyoming'], dtype=object)"
      ]
     },
     "execution_count": 27,
     "metadata": {},
     "output_type": "execute_result"
    }
   ],
   "source": [
    "df['State'].unique()"
   ]
  },
  {
   "cell_type": "markdown",
   "metadata": {},
   "source": [
    "#### Here we are seperating the dataframe into three dataframes: one for Texas, Washington, and Florida. Only the states we have selected as comparison states are put into their respective dataframes. "
   ]
  },
  {
   "cell_type": "code",
   "execution_count": 28,
   "metadata": {},
   "outputs": [],
   "source": [
    "we_want_texas = ['Arkansas', 'California', 'Georgia', 'Missouri', 'New York', 'Wyoming']\n",
    "we_want_washington = ['Alaska', 'Hawaii', 'Iowa', 'Kansas', 'Maine', 'Massachusetts',\n",
    "       'Minnesota', 'Montana', 'Nebraska', 'North Dakota', 'Oregon',\n",
    "       'South Dakota', 'Virginia', 'Wyoming']\n",
    "we_want_florida = ['California', 'Nevada', 'New York', 'Texas']\n",
    "\n",
    "df_washington = df[df['State'].isin(we_want_washington)]\n",
    "df_texas = df[df['State'].isin(we_want_texas)]\n",
    "df_florida = df[df['State'].isin(we_want_florida)]"
   ]
  },
  {
   "cell_type": "markdown",
   "metadata": {},
   "source": [
    "#### Below we are grouped each data frame on the year. We do this to have a single death rate per year. "
   ]
  },
  {
   "cell_type": "code",
   "execution_count": 29,
   "metadata": {},
   "outputs": [
    {
     "name": "stderr",
     "output_type": "stream",
     "text": [
      "/tmp/ipykernel_5541/4193355366.py:1: FutureWarning: The default value of numeric_only in DataFrameGroupBy.sum is deprecated. In a future version, numeric_only will default to False. Either specify numeric_only or select only columns which should be valid for the function.\n",
      "  groupedby_df_washington = df_washington.groupby([\"Year\"]).sum()\n"
     ]
    }
   ],
   "source": [
    "groupedby_df_washington = df_washington.groupby([\"Year\"]).sum() \n",
    "groupedby_df_washington = groupedby_df_washington.reset_index(level=None, drop=False, inplace=False, col_level=0, col_fill='')\n",
    "groupedby_df_washington['Death Rate'] = (groupedby_df_washington['Deaths']/groupedby_df_washington['Population'])*100_000"
   ]
  },
  {
   "cell_type": "code",
   "execution_count": 30,
   "metadata": {},
   "outputs": [
    {
     "name": "stderr",
     "output_type": "stream",
     "text": [
      "/tmp/ipykernel_5541/1352553882.py:1: FutureWarning: The default value of numeric_only in DataFrameGroupBy.sum is deprecated. In a future version, numeric_only will default to False. Either specify numeric_only or select only columns which should be valid for the function.\n",
      "  groupedby_df_texas = df_texas.groupby([\"Year\"]).sum() # we feel that sum is the most accurate function to use\n"
     ]
    }
   ],
   "source": [
    "groupedby_df_texas = df_texas.groupby([\"Year\"]).sum() # we feel that sum is the most accurate function to use\n",
    "groupedby_df_texas = groupedby_df_texas.reset_index(level=None, drop=False, inplace=False, col_level=0, col_fill='')\n",
    "groupedby_df_texas['Death Rate'] = (groupedby_df_texas['Deaths']/groupedby_df_texas['Population'])*100_000"
   ]
  },
  {
   "cell_type": "code",
   "execution_count": 31,
   "metadata": {},
   "outputs": [
    {
     "name": "stderr",
     "output_type": "stream",
     "text": [
      "/tmp/ipykernel_5541/110551209.py:1: FutureWarning: The default value of numeric_only in DataFrameGroupBy.sum is deprecated. In a future version, numeric_only will default to False. Either specify numeric_only or select only columns which should be valid for the function.\n",
      "  groupedby_df_florida = df_florida.groupby([\"Year\"]).sum() # we feel that sum is the most accurate function to use\n"
     ]
    }
   ],
   "source": [
    "groupedby_df_florida = df_florida.groupby([\"Year\"]).sum() # we feel that sum is the most accurate function to use\n",
    "groupedby_df_florida = groupedby_df_florida.reset_index(level=None, drop=False, inplace=False, col_level=0, col_fill='')\n",
    "groupedby_df_florida['Death Rate'] = (groupedby_df_florida['Deaths']/groupedby_df_florida['Population'])*100_000"
   ]
  },
  {
   "cell_type": "markdown",
   "metadata": {},
   "source": [
    "#### These are the final dataframes with a death rate per 100,000 people per year. "
   ]
  },
  {
   "cell_type": "code",
   "execution_count": 32,
   "metadata": {},
   "outputs": [
    {
     "data": {
      "text/html": [
       "<div>\n",
       "<style scoped>\n",
       "    .dataframe tbody tr th:only-of-type {\n",
       "        vertical-align: middle;\n",
       "    }\n",
       "\n",
       "    .dataframe tbody tr th {\n",
       "        vertical-align: top;\n",
       "    }\n",
       "\n",
       "    .dataframe thead th {\n",
       "        text-align: right;\n",
       "    }\n",
       "</style>\n",
       "<table border=\"1\" class=\"dataframe\">\n",
       "  <thead>\n",
       "    <tr style=\"text-align: right;\">\n",
       "      <th></th>\n",
       "      <th>Year</th>\n",
       "      <th>Unnamed: 0</th>\n",
       "      <th>State Code</th>\n",
       "      <th>County Code</th>\n",
       "      <th>Deaths</th>\n",
       "      <th>Population</th>\n",
       "      <th>Death Rate</th>\n",
       "    </tr>\n",
       "  </thead>\n",
       "  <tbody>\n",
       "    <tr>\n",
       "      <th>0</th>\n",
       "      <td>2007</td>\n",
       "      <td>52965</td>\n",
       "      <td>4082.0</td>\n",
       "      <td>4099044.0</td>\n",
       "      <td>6328.0</td>\n",
       "      <td>257961557.0</td>\n",
       "      <td>2.453079</td>\n",
       "    </tr>\n",
       "    <tr>\n",
       "      <th>1</th>\n",
       "      <td>2008</td>\n",
       "      <td>164849</td>\n",
       "      <td>3662.0</td>\n",
       "      <td>3677834.0</td>\n",
       "      <td>6047.0</td>\n",
       "      <td>251592002.0</td>\n",
       "      <td>2.403495</td>\n",
       "    </tr>\n",
       "    <tr>\n",
       "      <th>2</th>\n",
       "      <td>2009</td>\n",
       "      <td>308221</td>\n",
       "      <td>4084.0</td>\n",
       "      <td>4102506.0</td>\n",
       "      <td>6449.0</td>\n",
       "      <td>271885390.0</td>\n",
       "      <td>2.371955</td>\n",
       "    </tr>\n",
       "    <tr>\n",
       "      <th>3</th>\n",
       "      <td>2010</td>\n",
       "      <td>460727</td>\n",
       "      <td>4254.0</td>\n",
       "      <td>4272508.0</td>\n",
       "      <td>6434.0</td>\n",
       "      <td>287509238.0</td>\n",
       "      <td>2.237841</td>\n",
       "    </tr>\n",
       "    <tr>\n",
       "      <th>4</th>\n",
       "      <td>2011</td>\n",
       "      <td>636666</td>\n",
       "      <td>4554.0</td>\n",
       "      <td>4573107.0</td>\n",
       "      <td>7167.0</td>\n",
       "      <td>285728800.0</td>\n",
       "      <td>2.508323</td>\n",
       "    </tr>\n",
       "    <tr>\n",
       "      <th>5</th>\n",
       "      <td>2012</td>\n",
       "      <td>798886</td>\n",
       "      <td>4440.0</td>\n",
       "      <td>4458310.0</td>\n",
       "      <td>7032.0</td>\n",
       "      <td>297838744.0</td>\n",
       "      <td>2.361009</td>\n",
       "    </tr>\n",
       "  </tbody>\n",
       "</table>\n",
       "</div>"
      ],
      "text/plain": [
       "   Year  Unnamed: 0  State Code  County Code  Deaths   Population  Death Rate\n",
       "0  2007       52965      4082.0    4099044.0  6328.0  257961557.0    2.453079\n",
       "1  2008      164849      3662.0    3677834.0  6047.0  251592002.0    2.403495\n",
       "2  2009      308221      4084.0    4102506.0  6449.0  271885390.0    2.371955\n",
       "3  2010      460727      4254.0    4272508.0  6434.0  287509238.0    2.237841\n",
       "4  2011      636666      4554.0    4573107.0  7167.0  285728800.0    2.508323\n",
       "5  2012      798886      4440.0    4458310.0  7032.0  297838744.0    2.361009"
      ]
     },
     "execution_count": 32,
     "metadata": {},
     "output_type": "execute_result"
    }
   ],
   "source": [
    "groupedby_df_florida"
   ]
  },
  {
   "cell_type": "code",
   "execution_count": 33,
   "metadata": {},
   "outputs": [
    {
     "data": {
      "text/html": [
       "<div>\n",
       "<style scoped>\n",
       "    .dataframe tbody tr th:only-of-type {\n",
       "        vertical-align: middle;\n",
       "    }\n",
       "\n",
       "    .dataframe tbody tr th {\n",
       "        vertical-align: top;\n",
       "    }\n",
       "\n",
       "    .dataframe thead th {\n",
       "        text-align: right;\n",
       "    }\n",
       "</style>\n",
       "<table border=\"1\" class=\"dataframe\">\n",
       "  <thead>\n",
       "    <tr style=\"text-align: right;\">\n",
       "      <th></th>\n",
       "      <th>Year</th>\n",
       "      <th>Unnamed: 0</th>\n",
       "      <th>State Code</th>\n",
       "      <th>County Code</th>\n",
       "      <th>Deaths</th>\n",
       "      <th>Population</th>\n",
       "      <th>Death Rate</th>\n",
       "    </tr>\n",
       "  </thead>\n",
       "  <tbody>\n",
       "    <tr>\n",
       "      <th>0</th>\n",
       "      <td>2007</td>\n",
       "      <td>27289</td>\n",
       "      <td>2092.0</td>\n",
       "      <td>2100820.0</td>\n",
       "      <td>4866.0</td>\n",
       "      <td>201800261.0</td>\n",
       "      <td>2.411295</td>\n",
       "    </tr>\n",
       "    <tr>\n",
       "      <th>1</th>\n",
       "      <td>2008</td>\n",
       "      <td>130120</td>\n",
       "      <td>2030.0</td>\n",
       "      <td>2039550.0</td>\n",
       "      <td>4917.0</td>\n",
       "      <td>207654984.0</td>\n",
       "      <td>2.367870</td>\n",
       "    </tr>\n",
       "    <tr>\n",
       "      <th>2</th>\n",
       "      <td>2009</td>\n",
       "      <td>224083</td>\n",
       "      <td>1779.0</td>\n",
       "      <td>1787962.0</td>\n",
       "      <td>4819.0</td>\n",
       "      <td>212419875.0</td>\n",
       "      <td>2.268620</td>\n",
       "    </tr>\n",
       "    <tr>\n",
       "      <th>3</th>\n",
       "      <td>2010</td>\n",
       "      <td>360119</td>\n",
       "      <td>2081.0</td>\n",
       "      <td>2091159.0</td>\n",
       "      <td>4931.0</td>\n",
       "      <td>227149998.0</td>\n",
       "      <td>2.170812</td>\n",
       "    </tr>\n",
       "    <tr>\n",
       "      <th>4</th>\n",
       "      <td>2011</td>\n",
       "      <td>496276</td>\n",
       "      <td>2194.0</td>\n",
       "      <td>2204241.0</td>\n",
       "      <td>5439.0</td>\n",
       "      <td>220445483.0</td>\n",
       "      <td>2.467277</td>\n",
       "    </tr>\n",
       "    <tr>\n",
       "      <th>5</th>\n",
       "      <td>2012</td>\n",
       "      <td>647654</td>\n",
       "      <td>2323.0</td>\n",
       "      <td>2333576.0</td>\n",
       "      <td>5436.0</td>\n",
       "      <td>230657427.0</td>\n",
       "      <td>2.356742</td>\n",
       "    </tr>\n",
       "  </tbody>\n",
       "</table>\n",
       "</div>"
      ],
      "text/plain": [
       "   Year  Unnamed: 0  State Code  County Code  Deaths   Population  Death Rate\n",
       "0  2007       27289      2092.0    2100820.0  4866.0  201800261.0    2.411295\n",
       "1  2008      130120      2030.0    2039550.0  4917.0  207654984.0    2.367870\n",
       "2  2009      224083      1779.0    1787962.0  4819.0  212419875.0    2.268620\n",
       "3  2010      360119      2081.0    2091159.0  4931.0  227149998.0    2.170812\n",
       "4  2011      496276      2194.0    2204241.0  5439.0  220445483.0    2.467277\n",
       "5  2012      647654      2323.0    2333576.0  5436.0  230657427.0    2.356742"
      ]
     },
     "execution_count": 33,
     "metadata": {},
     "output_type": "execute_result"
    }
   ],
   "source": [
    "groupedby_df_texas"
   ]
  },
  {
   "cell_type": "code",
   "execution_count": 34,
   "metadata": {},
   "outputs": [
    {
     "data": {
      "text/html": [
       "<div>\n",
       "<style scoped>\n",
       "    .dataframe tbody tr th:only-of-type {\n",
       "        vertical-align: middle;\n",
       "    }\n",
       "\n",
       "    .dataframe tbody tr th {\n",
       "        vertical-align: top;\n",
       "    }\n",
       "\n",
       "    .dataframe thead th {\n",
       "        text-align: right;\n",
       "    }\n",
       "</style>\n",
       "<table border=\"1\" class=\"dataframe\">\n",
       "  <thead>\n",
       "    <tr style=\"text-align: right;\">\n",
       "      <th></th>\n",
       "      <th>Year</th>\n",
       "      <th>Unnamed: 0</th>\n",
       "      <th>State Code</th>\n",
       "      <th>County Code</th>\n",
       "      <th>Deaths</th>\n",
       "      <th>Population</th>\n",
       "      <th>Death Rate</th>\n",
       "    </tr>\n",
       "  </thead>\n",
       "  <tbody>\n",
       "    <tr>\n",
       "      <th>0</th>\n",
       "      <td>2007</td>\n",
       "      <td>23511</td>\n",
       "      <td>1755.0</td>\n",
       "      <td>1761101.0</td>\n",
       "      <td>1508.0</td>\n",
       "      <td>36314673.0</td>\n",
       "      <td>4.152591</td>\n",
       "    </tr>\n",
       "    <tr>\n",
       "      <th>1</th>\n",
       "      <td>2008</td>\n",
       "      <td>62870</td>\n",
       "      <td>1660.0</td>\n",
       "      <td>1664732.0</td>\n",
       "      <td>1347.0</td>\n",
       "      <td>33922930.0</td>\n",
       "      <td>3.970765</td>\n",
       "    </tr>\n",
       "    <tr>\n",
       "      <th>2</th>\n",
       "      <td>2009</td>\n",
       "      <td>119398</td>\n",
       "      <td>1900.0</td>\n",
       "      <td>1907016.0</td>\n",
       "      <td>1457.0</td>\n",
       "      <td>33077506.0</td>\n",
       "      <td>4.404806</td>\n",
       "    </tr>\n",
       "    <tr>\n",
       "      <th>3</th>\n",
       "      <td>2010</td>\n",
       "      <td>156712</td>\n",
       "      <td>1727.0</td>\n",
       "      <td>1730594.0</td>\n",
       "      <td>1278.0</td>\n",
       "      <td>36298604.0</td>\n",
       "      <td>3.520797</td>\n",
       "    </tr>\n",
       "    <tr>\n",
       "      <th>4</th>\n",
       "      <td>2011</td>\n",
       "      <td>265780</td>\n",
       "      <td>2420.0</td>\n",
       "      <td>2427434.0</td>\n",
       "      <td>1714.0</td>\n",
       "      <td>44399089.0</td>\n",
       "      <td>3.860440</td>\n",
       "    </tr>\n",
       "    <tr>\n",
       "      <th>5</th>\n",
       "      <td>2012</td>\n",
       "      <td>327465</td>\n",
       "      <td>2319.0</td>\n",
       "      <td>2326285.0</td>\n",
       "      <td>1671.0</td>\n",
       "      <td>45061198.0</td>\n",
       "      <td>3.708290</td>\n",
       "    </tr>\n",
       "  </tbody>\n",
       "</table>\n",
       "</div>"
      ],
      "text/plain": [
       "   Year  Unnamed: 0  State Code  County Code  Deaths  Population  Death Rate\n",
       "0  2007       23511      1755.0    1761101.0  1508.0  36314673.0    4.152591\n",
       "1  2008       62870      1660.0    1664732.0  1347.0  33922930.0    3.970765\n",
       "2  2009      119398      1900.0    1907016.0  1457.0  33077506.0    4.404806\n",
       "3  2010      156712      1727.0    1730594.0  1278.0  36298604.0    3.520797\n",
       "4  2011      265780      2420.0    2427434.0  1714.0  44399089.0    3.860440\n",
       "5  2012      327465      2319.0    2326285.0  1671.0  45061198.0    3.708290"
      ]
     },
     "execution_count": 34,
     "metadata": {},
     "output_type": "execute_result"
    }
   ],
   "source": [
    "groupedby_df_washington"
   ]
  },
  {
   "cell_type": "code",
   "execution_count": 35,
   "metadata": {},
   "outputs": [],
   "source": [
    "we_want_only_texas = ['Texas']\n",
    "we_want_only_washington = ['Washington']\n",
    "we_want_only_florida = ['Florida']\n",
    "\n",
    "df_only_washington = df[df['State'].isin(we_want_only_washington)]\n",
    "df_only_texas = df[df['State'].isin(we_want_only_texas)]\n",
    "df_only_florida = df[df['State'].isin(we_want_only_florida)]"
   ]
  },
  {
   "cell_type": "code",
   "execution_count": 36,
   "metadata": {},
   "outputs": [
    {
     "data": {
      "text/html": [
       "<div>\n",
       "<style scoped>\n",
       "    .dataframe tbody tr th:only-of-type {\n",
       "        vertical-align: middle;\n",
       "    }\n",
       "\n",
       "    .dataframe tbody tr th {\n",
       "        vertical-align: top;\n",
       "    }\n",
       "\n",
       "    .dataframe thead th {\n",
       "        text-align: right;\n",
       "    }\n",
       "</style>\n",
       "<table border=\"1\" class=\"dataframe\">\n",
       "  <thead>\n",
       "    <tr style=\"text-align: right;\">\n",
       "      <th></th>\n",
       "      <th>Unnamed: 0</th>\n",
       "      <th>Year</th>\n",
       "      <th>State</th>\n",
       "      <th>State Code</th>\n",
       "      <th>County</th>\n",
       "      <th>County Code</th>\n",
       "      <th>Cause of death</th>\n",
       "      <th>Cause of death Code</th>\n",
       "      <th>Deaths</th>\n",
       "      <th>Population</th>\n",
       "      <th>Crude Rate</th>\n",
       "      <th>County Name</th>\n",
       "      <th>State_Code</th>\n",
       "    </tr>\n",
       "  </thead>\n",
       "  <tbody>\n",
       "  </tbody>\n",
       "</table>\n",
       "</div>"
      ],
      "text/plain": [
       "Empty DataFrame\n",
       "Columns: [Unnamed: 0, Year, State, State Code, County, County Code, Cause of death, Cause of death Code, Deaths, Population, Crude Rate, County Name, State_Code]\n",
       "Index: []"
      ]
     },
     "execution_count": 36,
     "metadata": {},
     "output_type": "execute_result"
    }
   ],
   "source": [
    "df_only_washington"
   ]
  },
  {
   "cell_type": "code",
   "execution_count": 37,
   "metadata": {},
   "outputs": [
    {
     "name": "stderr",
     "output_type": "stream",
     "text": [
      "/tmp/ipykernel_5541/348946759.py:1: FutureWarning: The default value of numeric_only in DataFrameGroupBy.sum is deprecated. In a future version, numeric_only will default to False. Either specify numeric_only or select only columns which should be valid for the function.\n",
      "  groupedby_df_only_washington = df_only_washington.groupby([\"Year\"]).sum()\n"
     ]
    }
   ],
   "source": [
    "groupedby_df_only_washington = df_only_washington.groupby([\"Year\"]).sum() \n",
    "groupedby_df_only_washington = groupedby_df_only_washington.reset_index(level=None, drop=False, inplace=False, col_level=0, col_fill='')\n",
    "groupedby_df_only_washington['Death Rate'] = (groupedby_df_only_washington['Deaths']/groupedby_df_only_washington['Population'])*100_000"
   ]
  },
  {
   "cell_type": "code",
   "execution_count": 38,
   "metadata": {},
   "outputs": [
    {
     "name": "stderr",
     "output_type": "stream",
     "text": [
      "/tmp/ipykernel_5541/2730766202.py:1: FutureWarning: The default value of numeric_only in DataFrameGroupBy.sum is deprecated. In a future version, numeric_only will default to False. Either specify numeric_only or select only columns which should be valid for the function.\n",
      "  groupedby_df_only_texas = df_only_texas.groupby([\"Year\"]).sum()\n"
     ]
    }
   ],
   "source": [
    "groupedby_df_only_texas = df_only_texas.groupby([\"Year\"]).sum() \n",
    "groupedby_df_only_texas = groupedby_df_only_texas.reset_index(level=None, drop=False, inplace=False, col_level=0, col_fill='')\n",
    "groupedby_df_only_texas['Death Rate'] = (groupedby_df_only_texas['Deaths']/groupedby_df_only_texas['Population'])*100_000"
   ]
  },
  {
   "cell_type": "code",
   "execution_count": 39,
   "metadata": {},
   "outputs": [
    {
     "name": "stderr",
     "output_type": "stream",
     "text": [
      "/tmp/ipykernel_5541/241970509.py:1: FutureWarning: The default value of numeric_only in DataFrameGroupBy.sum is deprecated. In a future version, numeric_only will default to False. Either specify numeric_only or select only columns which should be valid for the function.\n",
      "  groupedby_df_only_florida = df_only_florida.groupby([\"Year\"]).sum()\n"
     ]
    }
   ],
   "source": [
    "groupedby_df_only_florida = df_only_florida.groupby([\"Year\"]).sum() \n",
    "groupedby_df_only_florida = groupedby_df_only_florida.reset_index(level=None, drop=False, inplace=False, col_level=0, col_fill='')\n",
    "groupedby_df_only_florida['Death Rate'] = (groupedby_df_only_florida['Deaths']/groupedby_df_only_florida['Population'])*100_000"
   ]
  },
  {
   "cell_type": "code",
   "execution_count": 40,
   "metadata": {},
   "outputs": [
    {
     "data": {
      "text/html": [
       "<div>\n",
       "<style scoped>\n",
       "    .dataframe tbody tr th:only-of-type {\n",
       "        vertical-align: middle;\n",
       "    }\n",
       "\n",
       "    .dataframe tbody tr th {\n",
       "        vertical-align: top;\n",
       "    }\n",
       "\n",
       "    .dataframe thead th {\n",
       "        text-align: right;\n",
       "    }\n",
       "</style>\n",
       "<table border=\"1\" class=\"dataframe\">\n",
       "  <thead>\n",
       "    <tr style=\"text-align: right;\">\n",
       "      <th></th>\n",
       "      <th>Year</th>\n",
       "      <th>Unnamed: 0</th>\n",
       "      <th>State Code</th>\n",
       "      <th>County Code</th>\n",
       "      <th>Deaths</th>\n",
       "      <th>Population</th>\n",
       "      <th>Death Rate</th>\n",
       "    </tr>\n",
       "  </thead>\n",
       "  <tbody>\n",
       "  </tbody>\n",
       "</table>\n",
       "</div>"
      ],
      "text/plain": [
       "Empty DataFrame\n",
       "Columns: [Year, Unnamed: 0, State Code, County Code, Deaths, Population, Death Rate]\n",
       "Index: []"
      ]
     },
     "execution_count": 40,
     "metadata": {},
     "output_type": "execute_result"
    }
   ],
   "source": [
    "groupedby_df_only_florida"
   ]
  },
  {
   "cell_type": "code",
   "execution_count": null,
   "metadata": {},
   "outputs": [],
   "source": []
  }
 ],
 "metadata": {
  "kernelspec": {
   "display_name": "Python 3.10.4 64-bit",
   "language": "python",
   "name": "python3"
  },
  "language_info": {
   "codemirror_mode": {
    "name": "ipython",
    "version": 3
   },
   "file_extension": ".py",
   "mimetype": "text/x-python",
   "name": "python",
   "nbconvert_exporter": "python",
   "pygments_lexer": "ipython3",
   "version": "3.10.4"
  },
  "orig_nbformat": 4,
  "vscode": {
   "interpreter": {
    "hash": "3ad933181bd8a04b432d3370b9dc3b0662ad032c4dfaa4e4f1596c548f763858"
   }
  }
 },
 "nbformat": 4,
 "nbformat_minor": 2
}
