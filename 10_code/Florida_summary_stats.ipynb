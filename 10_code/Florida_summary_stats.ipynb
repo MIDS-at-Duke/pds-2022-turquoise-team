{
 "cells": [
  {
   "cell_type": "markdown",
   "metadata": {},
   "source": [
    "# Summary statistics of mortality rate for Florida, Texas and Washington"
   ]
  },
  {
   "cell_type": "code",
   "execution_count": 231,
   "metadata": {},
   "outputs": [
    {
     "name": "stderr",
     "output_type": "stream",
     "text": [
      "/var/folders/7r/0r13vqjn6gv46zrxjzzw_q4m0000gn/T/ipykernel_50050/1551645838.py:3: DtypeWarning: Columns (1,3,6,7,10,11,12,20) have mixed types. Specify dtype option on import or set low_memory=False.\n",
      "  df_1=pd.read_csv(\"https://raw.githubusercontent.com/MIDS-at-Duke/pds-2022-turquoise-team/main/20_intermediate_files/washington_all_counties.csv?token=GHSAT0AAAAAAB2BYECF2YJKEQLFAZTQWZDIY4FUFFA\")\n"
     ]
    }
   ],
   "source": [
    "# cleaning: get the final cleaned df\n",
    "import pandas as pd\n",
    "df_1=pd.read_csv(\"/workspaces/pds-2022-turquoise-team/20_intermediate_files/washington_all_counties.csv\")\n",
    "\n",
    "we_want_florida = ['California', 'Nevada', 'New York']\n",
    "florida=['Florida']\n",
    "df_florida_control = df_1[df_1['State_y'].isin(we_want_florida)]\n",
    "df_florida_treatment= df_1[df_1['State_y'].isin(florida)]\n",
    "\n",
    "\n",
    "we_want_washington = ['Hawaii', 'Iowa', 'Kansas', 'Maine', 'Massachusetts',\n",
    "       'Minnesota', 'Montana', 'Nebraska', 'North Dakota', 'Oregon',\n",
    "       'South Dakota', 'Virginia', 'Wyoming']\n",
    "\n",
    "\n",
    "\n",
    "we_want_texas = ['Arkansas', 'California', 'Georgia', 'Missouri', 'New York', 'Wyoming']\n",
    "\n"
   ]
  },
  {
   "cell_type": "code",
   "execution_count": 177,
   "metadata": {},
   "outputs": [
    {
     "name": "stderr",
     "output_type": "stream",
     "text": [
      "/var/folders/7r/0r13vqjn6gv46zrxjzzw_q4m0000gn/T/ipykernel_50050/673074414.py:2: SettingWithCopyWarning: \n",
      "A value is trying to be set on a copy of a slice from a DataFrame.\n",
      "Try using .loc[row_indexer,col_indexer] = value instead\n",
      "\n",
      "See the caveats in the documentation: https://pandas.pydata.org/pandas-docs/stable/user_guide/indexing.html#returning-a-view-versus-a-copy\n",
      "  df_florida_control_1['Population_y']=df_florida_control_1['Population_y'].astype('int')\n",
      "/var/folders/7r/0r13vqjn6gv46zrxjzzw_q4m0000gn/T/ipykernel_50050/673074414.py:6: SettingWithCopyWarning: \n",
      "A value is trying to be set on a copy of a slice from a DataFrame.\n",
      "Try using .loc[row_indexer,col_indexer] = value instead\n",
      "\n",
      "See the caveats in the documentation: https://pandas.pydata.org/pandas-docs/stable/user_guide/indexing.html#returning-a-view-versus-a-copy\n",
      "  df_florida_treatment_1['Population_y']=df_florida_treatment_1['Population_y'].astype('int')\n"
     ]
    }
   ],
   "source": [
    "df_florida_control_1=df_florida_control[['Year_y','State_y','Deaths', 'Population_y', 'County Name']]\n",
    "df_florida_control_1['Population_y']=df_florida_control_1['Population_y'].astype('int')\n",
    "df_florida_control_1.head()\n",
    "\n",
    "df_florida_treatment_1=df_florida_treatment[['Year_y','State_y','Deaths', 'Population_y', 'County Name']]\n",
    "df_florida_treatment_1['Population_y']=df_florida_treatment_1['Population_y'].astype('int')\n"
   ]
  },
  {
   "cell_type": "code",
   "execution_count": 178,
   "metadata": {},
   "outputs": [
    {
     "name": "stderr",
     "output_type": "stream",
     "text": [
      "/var/folders/7r/0r13vqjn6gv46zrxjzzw_q4m0000gn/T/ipykernel_50050/308878325.py:1: SettingWithCopyWarning: \n",
      "A value is trying to be set on a copy of a slice from a DataFrame.\n",
      "Try using .loc[row_indexer,col_indexer] = value instead\n",
      "\n",
      "See the caveats in the documentation: https://pandas.pydata.org/pandas-docs/stable/user_guide/indexing.html#returning-a-view-versus-a-copy\n",
      "  df_florida_control_1['Death Rate']=df_florida_control_1['Deaths']/df_florida_control_1['Population_y']*100000\n",
      "/var/folders/7r/0r13vqjn6gv46zrxjzzw_q4m0000gn/T/ipykernel_50050/308878325.py:3: SettingWithCopyWarning: \n",
      "A value is trying to be set on a copy of a slice from a DataFrame.\n",
      "Try using .loc[row_indexer,col_indexer] = value instead\n",
      "\n",
      "See the caveats in the documentation: https://pandas.pydata.org/pandas-docs/stable/user_guide/indexing.html#returning-a-view-versus-a-copy\n",
      "  df_florida_treatment_1['Death Rate']=df_florida_treatment_1['Deaths']/df_florida_treatment_1['Population_y']*100000\n",
      "/var/folders/7r/0r13vqjn6gv46zrxjzzw_q4m0000gn/T/ipykernel_50050/308878325.py:6: SettingWithCopyWarning: \n",
      "A value is trying to be set on a copy of a slice from a DataFrame.\n",
      "Try using .loc[row_indexer,col_indexer] = value instead\n",
      "\n",
      "See the caveats in the documentation: https://pandas.pydata.org/pandas-docs/stable/user_guide/indexing.html#returning-a-view-versus-a-copy\n",
      "  df_florida_treatment_1['Policy or Control'] = 'Policy'\n",
      "/var/folders/7r/0r13vqjn6gv46zrxjzzw_q4m0000gn/T/ipykernel_50050/308878325.py:7: SettingWithCopyWarning: \n",
      "A value is trying to be set on a copy of a slice from a DataFrame.\n",
      "Try using .loc[row_indexer,col_indexer] = value instead\n",
      "\n",
      "See the caveats in the documentation: https://pandas.pydata.org/pandas-docs/stable/user_guide/indexing.html#returning-a-view-versus-a-copy\n",
      "  df_florida_control_1['Policy or Control'] = 'Control'\n"
     ]
    },
    {
     "data": {
      "text/html": [
       "<div>\n",
       "<style scoped>\n",
       "    .dataframe tbody tr th:only-of-type {\n",
       "        vertical-align: middle;\n",
       "    }\n",
       "\n",
       "    .dataframe tbody tr th {\n",
       "        vertical-align: top;\n",
       "    }\n",
       "\n",
       "    .dataframe thead th {\n",
       "        text-align: right;\n",
       "    }\n",
       "</style>\n",
       "<table border=\"1\" class=\"dataframe\">\n",
       "  <thead>\n",
       "    <tr style=\"text-align: right;\">\n",
       "      <th></th>\n",
       "      <th>Year_y</th>\n",
       "      <th>State_y</th>\n",
       "      <th>Deaths</th>\n",
       "      <th>Population_y</th>\n",
       "      <th>County Name</th>\n",
       "      <th>Death Rate</th>\n",
       "      <th>Policy or Control</th>\n",
       "    </tr>\n",
       "  </thead>\n",
       "  <tbody>\n",
       "    <tr>\n",
       "      <th>6150</th>\n",
       "      <td>2014</td>\n",
       "      <td>Florida</td>\n",
       "      <td>12.0</td>\n",
       "      <td>256380</td>\n",
       "      <td>Alachua County</td>\n",
       "      <td>4.680552</td>\n",
       "      <td>Policy</td>\n",
       "    </tr>\n",
       "    <tr>\n",
       "      <th>6151</th>\n",
       "      <td>2012</td>\n",
       "      <td>Florida</td>\n",
       "      <td>12.0</td>\n",
       "      <td>27086</td>\n",
       "      <td>Alachua County</td>\n",
       "      <td>44.303330</td>\n",
       "      <td>Policy</td>\n",
       "    </tr>\n",
       "    <tr>\n",
       "      <th>6152</th>\n",
       "      <td>2010</td>\n",
       "      <td>Florida</td>\n",
       "      <td>12.0</td>\n",
       "      <td>168852</td>\n",
       "      <td>Alachua County</td>\n",
       "      <td>7.106815</td>\n",
       "      <td>Policy</td>\n",
       "    </tr>\n",
       "    <tr>\n",
       "      <th>6153</th>\n",
       "      <td>2008</td>\n",
       "      <td>Florida</td>\n",
       "      <td>12.0</td>\n",
       "      <td>28961</td>\n",
       "      <td>Alachua County</td>\n",
       "      <td>41.435033</td>\n",
       "      <td>Policy</td>\n",
       "    </tr>\n",
       "    <tr>\n",
       "      <th>6154</th>\n",
       "      <td>2006</td>\n",
       "      <td>Florida</td>\n",
       "      <td>12.0</td>\n",
       "      <td>535138</td>\n",
       "      <td>Alachua County</td>\n",
       "      <td>2.242412</td>\n",
       "      <td>Policy</td>\n",
       "    </tr>\n",
       "  </tbody>\n",
       "</table>\n",
       "</div>"
      ],
      "text/plain": [
       "      Year_y  State_y  Deaths  Population_y     County Name  Death Rate  \\\n",
       "6150    2014  Florida    12.0        256380  Alachua County    4.680552   \n",
       "6151    2012  Florida    12.0         27086  Alachua County   44.303330   \n",
       "6152    2010  Florida    12.0        168852  Alachua County    7.106815   \n",
       "6153    2008  Florida    12.0         28961  Alachua County   41.435033   \n",
       "6154    2006  Florida    12.0        535138  Alachua County    2.242412   \n",
       "\n",
       "     Policy or Control  \n",
       "6150            Policy  \n",
       "6151            Policy  \n",
       "6152            Policy  \n",
       "6153            Policy  \n",
       "6154            Policy  "
      ]
     },
     "execution_count": 178,
     "metadata": {},
     "output_type": "execute_result"
    }
   ],
   "source": [
    "df_florida_control_1['Death Rate']=df_florida_control_1['Deaths']/df_florida_control_1['Population_y']*100000\n",
    "\n",
    "df_florida_treatment_1['Death Rate']=df_florida_treatment_1['Deaths']/df_florida_treatment_1['Population_y']*100000\n",
    "df_florida_treatment_1.head()\n",
    "\n",
    "df_florida_treatment_1['Policy or Control'] = 'Policy'\n",
    "df_florida_control_1['Policy or Control'] = 'Control'\n",
    "\n",
    "florida_policy_control = pd.concat([df_florida_treatment_1, df_florida_control_1])\n",
    "florida_policy_control.head()"
   ]
  },
  {
   "cell_type": "code",
   "execution_count": 246,
   "metadata": {},
   "outputs": [
    {
     "data": {
      "text/plain": [
       "count    2304.000000\n",
       "mean       62.709563\n",
       "std       143.427503\n",
       "min         0.214035\n",
       "25%         6.204493\n",
       "50%        20.353962\n",
       "75%        59.047643\n",
       "max      2057.423614\n",
       "Name: Death Rate, dtype: float64"
      ]
     },
     "execution_count": 246,
     "metadata": {},
     "output_type": "execute_result"
    }
   ],
   "source": [
    "# treatment-pre\n",
    "florida_policy_control.loc[(florida_policy_control[\"Year_y\"] < 2010) & (\n",
    "    florida_policy_control[\"Policy or Control\"] == \"Policy\")][\"Death Rate\"].describe()\n"
   ]
  },
  {
   "cell_type": "code",
   "execution_count": 180,
   "metadata": {},
   "outputs": [
    {
     "data": {
      "text/plain": [
       "count    2340.000000\n",
       "mean       50.914273\n",
       "std        98.168239\n",
       "min         0.181700\n",
       "25%         4.795788\n",
       "50%        11.854644\n",
       "75%        48.048109\n",
       "max       928.749653\n",
       "Name: Death Rate, dtype: float64"
      ]
     },
     "execution_count": 180,
     "metadata": {},
     "output_type": "execute_result"
    }
   ],
   "source": [
    "# treatment-after\n",
    "florida_policy_control.loc[(florida_policy_control[\"Year_y\"]>=2010)&(florida_policy_control[\"Policy or Control\"] ==\"Policy\")][\"Death Rate\"].describe()"
   ]
  },
  {
   "cell_type": "code",
   "execution_count": 181,
   "metadata": {},
   "outputs": [
    {
     "data": {
      "text/plain": [
       "count     4840.000000\n",
       "mean       135.267289\n",
       "std        884.783539\n",
       "min          0.102183\n",
       "25%          4.435381\n",
       "50%         13.892152\n",
       "75%         49.589799\n",
       "max      21097.560976\n",
       "Name: Death Rate, dtype: float64"
      ]
     },
     "execution_count": 181,
     "metadata": {},
     "output_type": "execute_result"
    }
   ],
   "source": [
    "# control-pre\n",
    "florida_policy_control.loc[(florida_policy_control[\"Year_y\"]<2010)&(florida_policy_control[\"Policy or Control\"] ==\"Control\")][\"Death Rate\"].describe()"
   ]
  },
  {
   "cell_type": "code",
   "execution_count": 182,
   "metadata": {},
   "outputs": [
    {
     "data": {
      "text/html": [
       "<div>\n",
       "<style scoped>\n",
       "    .dataframe tbody tr th:only-of-type {\n",
       "        vertical-align: middle;\n",
       "    }\n",
       "\n",
       "    .dataframe tbody tr th {\n",
       "        vertical-align: top;\n",
       "    }\n",
       "\n",
       "    .dataframe thead th {\n",
       "        text-align: right;\n",
       "    }\n",
       "</style>\n",
       "<table border=\"1\" class=\"dataframe\">\n",
       "  <thead>\n",
       "    <tr style=\"text-align: right;\">\n",
       "      <th></th>\n",
       "      <th>Death Rate</th>\n",
       "    </tr>\n",
       "  </thead>\n",
       "  <tbody>\n",
       "    <tr>\n",
       "      <th>count</th>\n",
       "      <td>4831.000000</td>\n",
       "    </tr>\n",
       "    <tr>\n",
       "      <th>mean</th>\n",
       "      <td>70.978718</td>\n",
       "    </tr>\n",
       "    <tr>\n",
       "      <th>std</th>\n",
       "      <td>223.383085</td>\n",
       "    </tr>\n",
       "    <tr>\n",
       "      <th>min</th>\n",
       "      <td>0.049478</td>\n",
       "    </tr>\n",
       "    <tr>\n",
       "      <th>25%</th>\n",
       "      <td>3.005501</td>\n",
       "    </tr>\n",
       "    <tr>\n",
       "      <th>50%</th>\n",
       "      <td>10.110610</td>\n",
       "    </tr>\n",
       "    <tr>\n",
       "      <th>75%</th>\n",
       "      <td>50.725050</td>\n",
       "    </tr>\n",
       "    <tr>\n",
       "      <th>max</th>\n",
       "      <td>4774.774775</td>\n",
       "    </tr>\n",
       "  </tbody>\n",
       "</table>\n",
       "</div>"
      ],
      "text/plain": [
       "        Death Rate\n",
       "count  4831.000000\n",
       "mean     70.978718\n",
       "std     223.383085\n",
       "min       0.049478\n",
       "25%       3.005501\n",
       "50%      10.110610\n",
       "75%      50.725050\n",
       "max    4774.774775"
      ]
     },
     "execution_count": 182,
     "metadata": {},
     "output_type": "execute_result"
    }
   ],
   "source": [
    "# control-after\n",
    "florida_policy_control.loc[(florida_policy_control[\"Year_y\"] >= 2010) & (\n",
    "  florida_policy_control[\"Policy or Control\"] == \"Control\")][[\"Death Rate\"]].describe()\n"
   ]
  },
  {
   "cell_type": "code",
   "execution_count": 222,
   "metadata": {},
   "outputs": [],
   "source": [
    "# washington\n",
    "washington=['Washington']\n",
    "df_washington_control = df_1[df_1['State_y'].isin(we_want_washington)]\n",
    "df_washington_treatment= df_1[df_1['State_y'].isin(washington)]\n",
    "\n",
    "\n",
    "df_washington_control_1=df_washington_control[['Year_y','State_y','Deaths', 'Population_y', 'County Name']]"
   ]
  },
  {
   "cell_type": "code",
   "execution_count": 224,
   "metadata": {},
   "outputs": [],
   "source": [
    "df_washington_control_1 = df_washington_control_1[df_washington_control_1['Population_y'] != 'Missing']\n",
    "\n",
    "df_washington_treatment_1=df_washington_treatment[['Year_y','State_y','Deaths', 'Population_y', 'County Name']]\n",
    "df_washington_treatment_1 = df_washington_treatment_1[df_washington_treatment_1['Population_y'] != 'Missing']\n"
   ]
  },
  {
   "cell_type": "code",
   "execution_count": 226,
   "metadata": {},
   "outputs": [
    {
     "data": {
      "text/plain": [
       "count     988.000000\n",
       "mean      111.071417\n",
       "std       239.218260\n",
       "min         0.266664\n",
       "25%         7.238283\n",
       "50%        24.748537\n",
       "75%        95.146617\n",
       "max      2375.750956\n",
       "Name: Death Rate, dtype: float64"
      ]
     },
     "execution_count": 226,
     "metadata": {},
     "output_type": "execute_result"
    }
   ],
   "source": [
    "df_washington_control_1['Population_y']=df_washington_control_1['Population_y'].astype('int')\n",
    "df_washington_control_1.head()\n",
    "\n",
    "\n",
    "df_washington_treatment_1['Population_y']=df_washington_treatment_1['Population_y'].astype('int')\n",
    "\n",
    "\n",
    "df_washington_control_1['Death Rate']=df_washington_control_1['Deaths']/df_washington_control_1['Population_y']*100000\n",
    "\n",
    "df_washington_treatment_1['Death Rate']=df_washington_treatment_1['Deaths']/df_washington_treatment_1['Population_y']*100000\n",
    "df_washington_treatment_1.head()\n",
    "\n",
    "df_washington_treatment_1['Policy or Control'] = 'Policy'\n",
    "df_washington_control_1['Policy or Control'] = 'Control'\n",
    "\n",
    "washington_policy_control = pd.concat([df_washington_treatment_1, df_washington_control_1])\n",
    "washington_policy_control.head()\n",
    "\n",
    "\n",
    "# treatment-pre\n",
    "washington_policy_control.loc[(washington_policy_control[\"Year_y\"] < 2012) & (\n",
    "    washington_policy_control[\"Policy or Control\"] == \"Policy\")][\"Death Rate\"].describe()\n"
   ]
  },
  {
   "cell_type": "code",
   "execution_count": 227,
   "metadata": {},
   "outputs": [
    {
     "data": {
      "text/plain": [
       "count     683.000000\n",
       "mean      101.537775\n",
       "std       342.150503\n",
       "min         0.219846\n",
       "25%         6.784974\n",
       "50%        25.412961\n",
       "75%        97.081066\n",
       "max      5573.033708\n",
       "Name: Death Rate, dtype: float64"
      ]
     },
     "execution_count": 227,
     "metadata": {},
     "output_type": "execute_result"
    }
   ],
   "source": [
    "# treatment-after\n",
    "washington_policy_control.loc[(washington_policy_control[\"Year_y\"]>=2012)&(washington_policy_control[\"Policy or Control\"] ==\"Policy\")][\"Death Rate\"].describe()\n"
   ]
  },
  {
   "cell_type": "code",
   "execution_count": 228,
   "metadata": {},
   "outputs": [
    {
     "data": {
      "text/plain": [
       "count    11131.000000\n",
       "mean        81.362698\n",
       "std        156.950389\n",
       "min          0.440461\n",
       "25%         15.366649\n",
       "50%         40.112314\n",
       "75%         88.059178\n",
       "max       5487.448920\n",
       "Name: Death Rate, dtype: float64"
      ]
     },
     "execution_count": 228,
     "metadata": {},
     "output_type": "execute_result"
    }
   ],
   "source": [
    "\n",
    "# control-pre\n",
    "washington_policy_control.loc[(washington_policy_control[\"Year_y\"]<2012)&(washington_policy_control[\"Policy or Control\"] ==\"Control\")][\"Death Rate\"].describe()\n",
    "\n"
   ]
  },
  {
   "cell_type": "code",
   "execution_count": 229,
   "metadata": {},
   "outputs": [
    {
     "data": {
      "text/html": [
       "<div>\n",
       "<style scoped>\n",
       "    .dataframe tbody tr th:only-of-type {\n",
       "        vertical-align: middle;\n",
       "    }\n",
       "\n",
       "    .dataframe tbody tr th {\n",
       "        vertical-align: top;\n",
       "    }\n",
       "\n",
       "    .dataframe thead th {\n",
       "        text-align: right;\n",
       "    }\n",
       "</style>\n",
       "<table border=\"1\" class=\"dataframe\">\n",
       "  <thead>\n",
       "    <tr style=\"text-align: right;\">\n",
       "      <th></th>\n",
       "      <th>Death Rate</th>\n",
       "    </tr>\n",
       "  </thead>\n",
       "  <tbody>\n",
       "    <tr>\n",
       "      <th>count</th>\n",
       "      <td>7789.000000</td>\n",
       "    </tr>\n",
       "    <tr>\n",
       "      <th>mean</th>\n",
       "      <td>78.939050</td>\n",
       "    </tr>\n",
       "    <tr>\n",
       "      <th>std</th>\n",
       "      <td>115.849073</td>\n",
       "    </tr>\n",
       "    <tr>\n",
       "      <th>min</th>\n",
       "      <td>0.394195</td>\n",
       "    </tr>\n",
       "    <tr>\n",
       "      <th>25%</th>\n",
       "      <td>14.320493</td>\n",
       "    </tr>\n",
       "    <tr>\n",
       "      <th>50%</th>\n",
       "      <td>40.544924</td>\n",
       "    </tr>\n",
       "    <tr>\n",
       "      <th>75%</th>\n",
       "      <td>91.810503</td>\n",
       "    </tr>\n",
       "    <tr>\n",
       "      <th>max</th>\n",
       "      <td>1611.963488</td>\n",
       "    </tr>\n",
       "  </tbody>\n",
       "</table>\n",
       "</div>"
      ],
      "text/plain": [
       "        Death Rate\n",
       "count  7789.000000\n",
       "mean     78.939050\n",
       "std     115.849073\n",
       "min       0.394195\n",
       "25%      14.320493\n",
       "50%      40.544924\n",
       "75%      91.810503\n",
       "max    1611.963488"
      ]
     },
     "execution_count": 229,
     "metadata": {},
     "output_type": "execute_result"
    }
   ],
   "source": [
    "# control-after\n",
    "washington_policy_control.loc[(washington_policy_control[\"Year_y\"] >= 2012) & (\n",
    "  washington_policy_control[\"Policy or Control\"] == \"Control\")][[\"Death Rate\"]].describe()"
   ]
  },
  {
   "cell_type": "code",
   "execution_count": 241,
   "metadata": {},
   "outputs": [
    {
     "name": "stderr",
     "output_type": "stream",
     "text": [
      "/var/folders/7r/0r13vqjn6gv46zrxjzzw_q4m0000gn/T/ipykernel_50050/2871808070.py:8: SettingWithCopyWarning: \n",
      "A value is trying to be set on a copy of a slice from a DataFrame.\n",
      "Try using .loc[row_indexer,col_indexer] = value instead\n",
      "\n",
      "See the caveats in the documentation: https://pandas.pydata.org/pandas-docs/stable/user_guide/indexing.html#returning-a-view-versus-a-copy\n",
      "  df_Texas_control_1['Population_y']=df_Texas_control_1['Population_y'].astype('int')\n",
      "/var/folders/7r/0r13vqjn6gv46zrxjzzw_q4m0000gn/T/ipykernel_50050/2871808070.py:12: SettingWithCopyWarning: \n",
      "A value is trying to be set on a copy of a slice from a DataFrame.\n",
      "Try using .loc[row_indexer,col_indexer] = value instead\n",
      "\n",
      "See the caveats in the documentation: https://pandas.pydata.org/pandas-docs/stable/user_guide/indexing.html#returning-a-view-versus-a-copy\n",
      "  df_Texas_treatment_1['Population_y']=df_Texas_treatment_1['Population_y'].astype('int')\n",
      "/var/folders/7r/0r13vqjn6gv46zrxjzzw_q4m0000gn/T/ipykernel_50050/2871808070.py:15: SettingWithCopyWarning: \n",
      "A value is trying to be set on a copy of a slice from a DataFrame.\n",
      "Try using .loc[row_indexer,col_indexer] = value instead\n",
      "\n",
      "See the caveats in the documentation: https://pandas.pydata.org/pandas-docs/stable/user_guide/indexing.html#returning-a-view-versus-a-copy\n",
      "  df_Texas_control_1['Death Rate']=df_Texas_control_1['Deaths']/df_Texas_control_1['Population_y']*100000\n",
      "/var/folders/7r/0r13vqjn6gv46zrxjzzw_q4m0000gn/T/ipykernel_50050/2871808070.py:17: SettingWithCopyWarning: \n",
      "A value is trying to be set on a copy of a slice from a DataFrame.\n",
      "Try using .loc[row_indexer,col_indexer] = value instead\n",
      "\n",
      "See the caveats in the documentation: https://pandas.pydata.org/pandas-docs/stable/user_guide/indexing.html#returning-a-view-versus-a-copy\n",
      "  df_Texas_treatment_1['Death Rate']=df_Texas_treatment_1['Deaths']/df_Texas_treatment_1['Population_y']*100000\n",
      "/var/folders/7r/0r13vqjn6gv46zrxjzzw_q4m0000gn/T/ipykernel_50050/2871808070.py:20: SettingWithCopyWarning: \n",
      "A value is trying to be set on a copy of a slice from a DataFrame.\n",
      "Try using .loc[row_indexer,col_indexer] = value instead\n",
      "\n",
      "See the caveats in the documentation: https://pandas.pydata.org/pandas-docs/stable/user_guide/indexing.html#returning-a-view-versus-a-copy\n",
      "  df_Texas_treatment_1['Policy or Control'] = 'Policy'\n",
      "/var/folders/7r/0r13vqjn6gv46zrxjzzw_q4m0000gn/T/ipykernel_50050/2871808070.py:21: SettingWithCopyWarning: \n",
      "A value is trying to be set on a copy of a slice from a DataFrame.\n",
      "Try using .loc[row_indexer,col_indexer] = value instead\n",
      "\n",
      "See the caveats in the documentation: https://pandas.pydata.org/pandas-docs/stable/user_guide/indexing.html#returning-a-view-versus-a-copy\n",
      "  df_Texas_control_1['Policy or Control'] = 'Control'\n"
     ]
    },
    {
     "data": {
      "text/plain": [
       "count    2553.000000\n",
       "mean      194.776080\n",
       "std       567.935813\n",
       "min         0.131322\n",
       "25%        15.887607\n",
       "50%        48.538977\n",
       "75%       133.333333\n",
       "max      7709.011944\n",
       "Name: Death Rate, dtype: float64"
      ]
     },
     "execution_count": 241,
     "metadata": {},
     "output_type": "execute_result"
    }
   ],
   "source": [
    "# Texas\n",
    "Texas=['Texas']\n",
    "df_Texas_control = df_1[df_1['State_y'].isin(we_want_texas)]\n",
    "df_Texas_treatment= df_1[df_1['State_y'].isin(Texas)]\n",
    "\n",
    "\n",
    "df_Texas_control_1=df_Texas_control[['Year_y','State_y','Deaths', 'Population_y', 'County Name']]\n",
    "df_Texas_control_1['Population_y']=df_Texas_control_1['Population_y'].astype('int')\n",
    "df_Texas_control_1.head()\n",
    "\n",
    "df_Texas_treatment_1=df_Texas_treatment[['Year_y','State_y','Deaths', 'Population_y', 'County Name']]\n",
    "df_Texas_treatment_1['Population_y']=df_Texas_treatment_1['Population_y'].astype('int')\n",
    "\n",
    "\n",
    "df_Texas_control_1['Death Rate']=df_Texas_control_1['Deaths']/df_Texas_control_1['Population_y']*100000\n",
    "\n",
    "df_Texas_treatment_1['Death Rate']=df_Texas_treatment_1['Deaths']/df_Texas_treatment_1['Population_y']*100000\n",
    "df_Texas_treatment_1.head()\n",
    "\n",
    "df_Texas_treatment_1['Policy or Control'] = 'Policy'\n",
    "df_Texas_control_1['Policy or Control'] = 'Control'\n",
    "\n",
    "Texas_policy_control = pd.concat([df_Texas_treatment_1, df_Texas_control_1])\n",
    "Texas_policy_control.head()\n",
    "\n",
    "\n",
    "# treatment-pre\n",
    "Texas_policy_control.loc[(Texas_policy_control[\"Year_y\"] < 2007) & (\n",
    "    Texas_policy_control[\"Policy or Control\"] == \"Policy\")][\"Death Rate\"].describe()\n",
    "\n"
   ]
  },
  {
   "cell_type": "code",
   "execution_count": 240,
   "metadata": {},
   "outputs": [
    {
     "data": {
      "text/plain": [
       "count    4471.000000\n",
       "mean      231.080558\n",
       "std       669.665682\n",
       "min         0.105524\n",
       "25%        11.929366\n",
       "50%        43.312543\n",
       "75%       147.818910\n",
       "max      8916.478555\n",
       "Name: Death Rate, dtype: float64"
      ]
     },
     "execution_count": 240,
     "metadata": {},
     "output_type": "execute_result"
    }
   ],
   "source": [
    "# treatment-after\n",
    "Texas_policy_control.loc[(Texas_policy_control[\"Year_y\"]>=2007)&(Texas_policy_control[\"Policy or Control\"] ==\"Policy\")][\"Death Rate\"].describe()\n",
    "\n"
   ]
  },
  {
   "cell_type": "code",
   "execution_count": 239,
   "metadata": {},
   "outputs": [
    {
     "data": {
      "text/plain": [
       "count    6402.000000\n",
       "mean       56.471515\n",
       "std       160.010048\n",
       "min         0.102183\n",
       "25%         7.709771\n",
       "50%        21.895774\n",
       "75%        50.431196\n",
       "max      3332.621235\n",
       "Name: Death Rate, dtype: float64"
      ]
     },
     "execution_count": 239,
     "metadata": {},
     "output_type": "execute_result"
    }
   ],
   "source": [
    "# control-pre\n",
    "Texas_policy_control.loc[(Texas_policy_control[\"Year_y\"]<2007)&(Texas_policy_control[\"Policy or Control\"] ==\"Control\")][\"Death Rate\"].describe()"
   ]
  },
  {
   "cell_type": "code",
   "execution_count": 244,
   "metadata": {},
   "outputs": [
    {
     "data": {
      "text/html": [
       "<div>\n",
       "<style scoped>\n",
       "    .dataframe tbody tr th:only-of-type {\n",
       "        vertical-align: middle;\n",
       "    }\n",
       "\n",
       "    .dataframe tbody tr th {\n",
       "        vertical-align: top;\n",
       "    }\n",
       "\n",
       "    .dataframe thead th {\n",
       "        text-align: right;\n",
       "    }\n",
       "</style>\n",
       "<table border=\"1\" class=\"dataframe\">\n",
       "  <thead>\n",
       "    <tr style=\"text-align: right;\">\n",
       "      <th></th>\n",
       "      <th>Death Rate</th>\n",
       "    </tr>\n",
       "  </thead>\n",
       "  <tbody>\n",
       "    <tr>\n",
       "      <th>count</th>\n",
       "      <td>11236.000000</td>\n",
       "    </tr>\n",
       "    <tr>\n",
       "      <th>mean</th>\n",
       "      <td>53.987537</td>\n",
       "    </tr>\n",
       "    <tr>\n",
       "      <th>std</th>\n",
       "      <td>164.748140</td>\n",
       "    </tr>\n",
       "    <tr>\n",
       "      <th>min</th>\n",
       "      <td>0.049478</td>\n",
       "    </tr>\n",
       "    <tr>\n",
       "      <th>25%</th>\n",
       "      <td>5.779271</td>\n",
       "    </tr>\n",
       "    <tr>\n",
       "      <th>50%</th>\n",
       "      <td>19.730871</td>\n",
       "    </tr>\n",
       "    <tr>\n",
       "      <th>75%</th>\n",
       "      <td>49.338859</td>\n",
       "    </tr>\n",
       "    <tr>\n",
       "      <th>max</th>\n",
       "      <td>4774.774775</td>\n",
       "    </tr>\n",
       "  </tbody>\n",
       "</table>\n",
       "</div>"
      ],
      "text/plain": [
       "         Death Rate\n",
       "count  11236.000000\n",
       "mean      53.987537\n",
       "std      164.748140\n",
       "min        0.049478\n",
       "25%        5.779271\n",
       "50%       19.730871\n",
       "75%       49.338859\n",
       "max     4774.774775"
      ]
     },
     "execution_count": 244,
     "metadata": {},
     "output_type": "execute_result"
    }
   ],
   "source": [
    "# control-after\n",
    "Texas_policy_control.loc[(Texas_policy_control[\"Year_y\"] >= 2007) & (\n",
    "  Texas_policy_control[\"Policy or Control\"] == \"Control\")][[\"Death Rate\"]].describe()"
   ]
  }
 ],
 "metadata": {
  "kernelspec": {
   "display_name": "Python 3.10.6 ('base')",
   "language": "python",
   "name": "python3"
  },
  "language_info": {
   "codemirror_mode": {
    "name": "ipython",
    "version": 3
   },
   "file_extension": ".py",
   "mimetype": "text/x-python",
   "name": "python",
   "nbconvert_exporter": "python",
   "pygments_lexer": "ipython3",
   "version": "3.9.13"
  },
  "orig_nbformat": 4,
  "vscode": {
   "interpreter": {
    "hash": "d647fb155be0736b3a09943666b28a26a079f7766702cd87e79ce50214dbaf2f"
   }
  }
 },
 "nbformat": 4,
 "nbformat_minor": 2
}
