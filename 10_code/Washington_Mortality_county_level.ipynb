{
 "cells": [
  {
   "cell_type": "markdown",
   "metadata": {},
   "source": [
    "# Washington's mortality rate on county level"
   ]
  },
  {
   "cell_type": "code",
   "execution_count": null,
   "metadata": {},
   "outputs": [],
   "source": [
    "import pandas as pd\n",
    "df_1=pd.read_csv(\"/workspaces/pds-2022-turquoise-team/20_intermediate_files/washington_all_counties.csv\")\n",
    "\n",
    "we_want_washington = ['Hawaii', 'Iowa', 'Kansas', 'Maine', 'Massachusetts',\n",
    "       'Minnesota', 'Montana', 'Nebraska', 'North Dakota', 'Oregon',\n",
    "       'South Dakota', 'Virginia', 'Wyoming']\n"
   ]
  },
  {
   "cell_type": "code",
   "execution_count": null,
   "metadata": {},
   "outputs": [],
   "source": [
    "we_want_washington = ['Hawaii', 'Iowa', 'Kansas', 'Maine', 'Massachusetts',\n",
    "       'Minnesota', 'Montana', 'Nebraska', 'North Dakota', 'Oregon',\n",
    "       'South Dakota', 'Virginia', 'Wyoming']"
   ]
  },
  {
   "cell_type": "code",
   "execution_count": null,
   "metadata": {},
   "outputs": [],
   "source": [
    "# washington\n",
    "washington=['Washington']\n",
    "df_washington_control = df_1[df_1['State_y'].isin(we_want_washington)]\n",
    "df_washington_treatment= df_1[df_1['State_y'].isin(washington)]\n",
    "\n",
    "\n",
    "df_washington_control_1=df_washington_control[['Year_y','State_y','Deaths', 'Population_y', 'County Name']]"
   ]
  },
  {
   "cell_type": "code",
   "execution_count": null,
   "metadata": {},
   "outputs": [],
   "source": [
    "df_washington_control_1 = df_washington_control_1[df_washington_control_1['Population_y'] != 'Missing']\n",
    "\n",
    "df_washington_treatment_1=df_washington_treatment[['Year_y','State_y','Deaths', 'Population_y', 'County Name']]\n",
    "df_washington_treatment_1 = df_washington_treatment_1[df_washington_treatment_1['Population_y'] != 'Missing']\n",
    "\n"
   ]
  },
  {
   "cell_type": "code",
   "execution_count": null,
   "metadata": {},
   "outputs": [],
   "source": [
    "df_washington_control_1['Population_y']=df_washington_control_1['Population_y'].astype('int')\n",
    "df_washington_control_1.head()\n",
    "\n",
    "\n",
    "df_washington_treatment_1['Population_y']=df_washington_treatment_1['Population_y'].astype('int')\n",
    "\n",
    "\n",
    "df_washington_control_1['Death Rate']=df_washington_control_1['Deaths']/df_washington_control_1['Population_y']*100000"
   ]
  },
  {
   "cell_type": "code",
   "execution_count": null,
   "metadata": {},
   "outputs": [],
   "source": [
    "df_washington_treatment_1['Death Rate']=df_washington_treatment_1['Deaths']/df_washington_treatment_1['Population_y']*100000\n",
    "df_washington_treatment_1.head()\n",
    "\n",
    "df_washington_treatment_1['Policy or Control'] = 'Policy'\n",
    "df_washington_control_1['Policy or Control'] = 'Control'\n",
    "\n",
    "washington_policy_control = pd.concat([df_washington_treatment_1, df_washington_control_1])"
   ]
  },
  {
   "cell_type": "code",
   "execution_count": null,
   "metadata": {},
   "outputs": [],
   "source": [
    "washington_policy_control.to_csv(\"/workspaces/pds-2022-turquoise-team/20_intermediate_files/Washington_Mortality_CountyLevel.csv\", encoding='utf-8')\n"
   ]
  }
 ],
 "metadata": {
  "kernelspec": {
   "display_name": "Python 3.10.6 ('base')",
   "language": "python",
   "name": "python3"
  },
  "language_info": {
   "name": "python",
   "version": "3.10.6"
  },
  "orig_nbformat": 4,
  "vscode": {
   "interpreter": {
    "hash": "d647fb155be0736b3a09943666b28a26a079f7766702cd87e79ce50214dbaf2f"
   }
  }
 },
 "nbformat": 4,
 "nbformat_minor": 2
}
