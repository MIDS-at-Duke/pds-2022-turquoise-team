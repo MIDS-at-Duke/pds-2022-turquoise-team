{
 "cells": [
  {
   "cell_type": "code",
   "execution_count": null,
   "metadata": {},
   "outputs": [],
   "source": [
    "# make a regression plot using altair for fl policy pre and fl policy post\n",
    "import altair as alt\n",
    "alt.Chart(fl_policy_pre).mark_circle().encode(\n",
    "    x=alt.X('T_YEAR:N', title='Year', scale=alt.Scale(zero=False)),\n",
    "    y='MME',\n",
    "    color='BUYER_STATE'\n",
    ")"
   ]
  },
  {
   "cell_type": "code",
   "execution_count": null,
   "metadata": {},
   "outputs": [],
   "source": [
    "# making a csv on state level from df_florida - for descriptive statistics so for plot, just ignore this block\n",
    "# group by the df_florida based on year, state\n",
    "we_want_florida = ['Nevada', 'New York', 'California']\n",
    "df_florida_control = merged_df[merged_df['State'].isin(we_want_florida)]\n",
    "df_florida_comparison_grouped = df_florida_control.groupby(['Year', 'State','BUYER_STATE','BUYER_COUNTY']).sum().reset_index()\n",
    "\n",
    "# Grouping treatment state\n",
    "we_want_only_florida = ['Florida']\n",
    "df_florida_only_grouped = merged_df[merged_df['State'].isin(we_want_only_florida)]\n",
    "df_florida_only_grouped = df_florida_only_grouped.groupby(['Year', 'State','BUYER_STATE','BUYER_COUNTY']).sum().reset_index()\n",
    "\n",
    "# Making a csv file for descriptive statistics\n",
    "df_florida_comparison_grouped.to_csv('../20_intermediate_files/df_florida_comparison_grouped.csv', index=False)\n",
    "df_florida_only_grouped.to_csv('../20_intermediate_files/df_florida_only_grouped.csv', index=False)\n"
   ]
  },
  {
   "cell_type": "code",
   "execution_count": null,
   "metadata": {},
   "outputs": [],
   "source": [
    "# THIS IS THE OLD WAY, WE ARE NOT USING THIS ANYMORE, KEEPING IT FOR REFERENCE\n",
    "\n",
    "# Grouping control state\n",
    "groupedby_df_florida = df_florida.groupby([\"Year\"]).sum()\n",
    "groupedby_df_florida = groupedby_df_florida.reset_index(level=None, drop=False, inplace=False, col_level=0, col_fill='')\n",
    "groupedby_df_florida['Prescription_Rate'] = (groupedby_df_florida['MME']/groupedby_df_florida['Population'])*100_000\n",
    "\n",
    "groupedby_df_florida['Policy_Change'] = \"Control\""
   ]
  },
  {
   "cell_type": "code",
   "execution_count": null,
   "metadata": {},
   "outputs": [],
   "source": [
    "# THIS IS THE OLD WAY, WE ARE NOT USING THIS ANYMORE, KEEPING IT FOR REFERENCE\n",
    "# Grouping treatment state\n",
    "we_want_only_florida = ['Florida']\n",
    "\n",
    "df_only_florida = merged_df[merged_df['State'].isin(we_want_only_florida)]\n",
    "\n",
    "groupedby_df_only_florida = df_only_florida.groupby([\"Year\"]).sum() \n",
    "groupedby_df_only_florida = groupedby_df_only_florida.reset_index(level=None, drop=False, inplace=False, col_level=0, col_fill='')\n",
    "groupedby_df_only_florida['Prescription_Rate'] = (groupedby_df_only_florida['MME']/groupedby_df_only_florida['Population'])*100\n",
    "\n",
    "groupedby_df_only_florida['Policy_Change'] = \"Treatment\""
   ]
  },
  {
   "cell_type": "code",
   "execution_count": null,
   "metadata": {},
   "outputs": [],
   "source": [
    "fl_prepol_control = groupedby_df_florida[(groupedby_df_florida['Year']<2010)]\n",
    "fl_postpol_control = groupedby_df_florida[(groupedby_df_florida['Year']>=2010)]\n",
    "\n",
    "fl_prepol_treatment = groupedby_df_only_florida [(groupedby_df_only_florida['Year']<2010)]\n",
    "fl_postpol_treatment = groupedby_df_only_florida[(groupedby_df_only_florida['Year']>=2010)]"
   ]
  },
  {
   "cell_type": "code",
   "execution_count": null,
   "metadata": {},
   "outputs": [],
   "source": [
    "# This is the old diff in diff plot\n",
    "diff = (\n",
    "    diffIndiff_fl(\n",
    "        fl_prepol_control, fl_postpol_control, fl_prepol_treatment, fl_postpol_treatment, \"Year\", \"Prescription_Rate\", 2010\n",
    "    )\n",
    "    + labs(\n",
    "        title=\"Opioid Shipments for Florida vs. Control States\",\n",
    "        color=\"Policy_Change\",\n",
    "    )\n",
    "    + ylab(\"Morphine Gram Equivalent rate\")\n",
    "    + theme(legend_position=\"right\")\n",
    ")\n",
    "print(diff)"
   ]
  }
 ],
 "metadata": {
  "kernelspec": {
   "display_name": "base",
   "language": "python",
   "name": "python3"
  },
  "language_info": {
   "name": "python",
   "version": "3.10.6 | packaged by conda-forge | (main, Aug 22 2022, 20:30:19) [MSC v.1929 64 bit (AMD64)]"
  },
  "orig_nbformat": 4,
  "vscode": {
   "interpreter": {
    "hash": "8809fa16c7855c80da7c7f5e4db812dad5d47ab731d42a7895804fcd7eb8521f"
   }
  }
 },
 "nbformat": 4,
 "nbformat_minor": 2
}
