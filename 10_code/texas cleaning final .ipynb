{
 "cells": [
  {
   "cell_type": "code",
   "execution_count": 3,
   "metadata": {},
   "outputs": [],
   "source": [
    "import pandas as pd\n",
    "df1 = pd.read_table('/workspaces/pds-2022-turquoise-team/00_source_data/mortality for texas.txt')\n",
    "df2 = pd.read_csv('/workspaces/pds-2022-turquoise-team/00_source_data/state county population.csv')"
   ]
  },
  {
   "cell_type": "code",
   "execution_count": 54,
   "metadata": {},
   "outputs": [],
   "source": [
    "df1['Year County Code Combo'] = df1['County Code'].astype(str) + df1['Year'].astype(str)\n"
   ]
  },
  {
   "cell_type": "code",
   "execution_count": 55,
   "metadata": {},
   "outputs": [],
   "source": [
    "df2 ['Year County Code Combo'] = df1['County Code'].astype(str) + df1['Year'].astype(str)"
   ]
  },
  {
   "cell_type": "code",
   "execution_count": 64,
   "metadata": {},
   "outputs": [],
   "source": [
    "to_add_df = df1.merge(df2,indicator = True, on= 'Year County Code Combo', how='outer')#.loc[lambda x : x['_merge']=='right_only']"
   ]
  },
  {
   "cell_type": "code",
   "execution_count": 80,
   "metadata": {},
   "outputs": [],
   "source": [
    "to_add_df = to_add_df.drop(columns=['Notes', 'State_x', 'State Code_x', 'County_x', 'Year_x', 'Year Code_x', 'Cause of death', 'Cause of death Code', 'Year Code_y','Crude Rate', 'State Code_y', 'County Code_x', 'Population_x', 'Year County Code Combo','County Code_y'  \n",
    "])"
   ]
  },
  {
   "cell_type": "code",
   "execution_count": 84,
   "metadata": {},
   "outputs": [],
   "source": [
    "to_add_df['Deaths'] =  to_add_df['Deaths'].fillna('5')"
   ]
  },
  {
   "cell_type": "code",
   "execution_count": 85,
   "metadata": {},
   "outputs": [
    {
     "data": {
      "text/html": [
       "<div>\n",
       "<style scoped>\n",
       "    .dataframe tbody tr th:only-of-type {\n",
       "        vertical-align: middle;\n",
       "    }\n",
       "\n",
       "    .dataframe tbody tr th {\n",
       "        vertical-align: top;\n",
       "    }\n",
       "\n",
       "    .dataframe thead th {\n",
       "        text-align: right;\n",
       "    }\n",
       "</style>\n",
       "<table border=\"1\" class=\"dataframe\">\n",
       "  <thead>\n",
       "    <tr style=\"text-align: right;\">\n",
       "      <th></th>\n",
       "      <th>Deaths</th>\n",
       "      <th>State_y</th>\n",
       "      <th>County_y</th>\n",
       "      <th>Year_y</th>\n",
       "      <th>Population_y</th>\n",
       "      <th>_merge</th>\n",
       "    </tr>\n",
       "  </thead>\n",
       "  <tbody>\n",
       "    <tr>\n",
       "      <th>0</th>\n",
       "      <td>16.0</td>\n",
       "      <td>Alabama</td>\n",
       "      <td>Autauga County, AL</td>\n",
       "      <td>1999</td>\n",
       "      <td>42963</td>\n",
       "      <td>both</td>\n",
       "    </tr>\n",
       "    <tr>\n",
       "      <th>1</th>\n",
       "      <td>10.0</td>\n",
       "      <td>Alabama</td>\n",
       "      <td>Autauga County, AL</td>\n",
       "      <td>2000</td>\n",
       "      <td>43671</td>\n",
       "      <td>both</td>\n",
       "    </tr>\n",
       "    <tr>\n",
       "      <th>2</th>\n",
       "      <td>15.0</td>\n",
       "      <td>Alabama</td>\n",
       "      <td>Autauga County, AL</td>\n",
       "      <td>2001</td>\n",
       "      <td>44889</td>\n",
       "      <td>both</td>\n",
       "    </tr>\n",
       "    <tr>\n",
       "      <th>3</th>\n",
       "      <td>13.0</td>\n",
       "      <td>Alabama</td>\n",
       "      <td>Autauga County, AL</td>\n",
       "      <td>2002</td>\n",
       "      <td>45909</td>\n",
       "      <td>both</td>\n",
       "    </tr>\n",
       "    <tr>\n",
       "      <th>4</th>\n",
       "      <td>20.0</td>\n",
       "      <td>Alabama</td>\n",
       "      <td>Autauga County, AL</td>\n",
       "      <td>2003</td>\n",
       "      <td>46800</td>\n",
       "      <td>both</td>\n",
       "    </tr>\n",
       "    <tr>\n",
       "      <th>...</th>\n",
       "      <td>...</td>\n",
       "      <td>...</td>\n",
       "      <td>...</td>\n",
       "      <td>...</td>\n",
       "      <td>...</td>\n",
       "      <td>...</td>\n",
       "    </tr>\n",
       "    <tr>\n",
       "      <th>83252</th>\n",
       "      <td>5</td>\n",
       "      <td>Wyoming</td>\n",
       "      <td>Weston County, WY</td>\n",
       "      <td>2016</td>\n",
       "      <td>7236</td>\n",
       "      <td>right_only</td>\n",
       "    </tr>\n",
       "    <tr>\n",
       "      <th>83253</th>\n",
       "      <td>5</td>\n",
       "      <td>Wyoming</td>\n",
       "      <td>Weston County, WY</td>\n",
       "      <td>2017</td>\n",
       "      <td>6927</td>\n",
       "      <td>right_only</td>\n",
       "    </tr>\n",
       "    <tr>\n",
       "      <th>83254</th>\n",
       "      <td>5</td>\n",
       "      <td>Wyoming</td>\n",
       "      <td>Weston County, WY</td>\n",
       "      <td>2018</td>\n",
       "      <td>6967</td>\n",
       "      <td>right_only</td>\n",
       "    </tr>\n",
       "    <tr>\n",
       "      <th>83255</th>\n",
       "      <td>5</td>\n",
       "      <td>Wyoming</td>\n",
       "      <td>Weston County, WY</td>\n",
       "      <td>2019</td>\n",
       "      <td>6927</td>\n",
       "      <td>right_only</td>\n",
       "    </tr>\n",
       "    <tr>\n",
       "      <th>83256</th>\n",
       "      <td>5</td>\n",
       "      <td>Wyoming</td>\n",
       "      <td>Weston County, WY</td>\n",
       "      <td>2020</td>\n",
       "      <td>6743</td>\n",
       "      <td>right_only</td>\n",
       "    </tr>\n",
       "  </tbody>\n",
       "</table>\n",
       "<p>83257 rows × 6 columns</p>\n",
       "</div>"
      ],
      "text/plain": [
       "      Deaths  State_y            County_y  Year_y Population_y      _merge\n",
       "0       16.0  Alabama  Autauga County, AL    1999        42963        both\n",
       "1       10.0  Alabama  Autauga County, AL    2000        43671        both\n",
       "2       15.0  Alabama  Autauga County, AL    2001        44889        both\n",
       "3       13.0  Alabama  Autauga County, AL    2002        45909        both\n",
       "4       20.0  Alabama  Autauga County, AL    2003        46800        both\n",
       "...      ...      ...                 ...     ...          ...         ...\n",
       "83252      5  Wyoming   Weston County, WY    2016         7236  right_only\n",
       "83253      5  Wyoming   Weston County, WY    2017         6927  right_only\n",
       "83254      5  Wyoming   Weston County, WY    2018         6967  right_only\n",
       "83255      5  Wyoming   Weston County, WY    2019         6927  right_only\n",
       "83256      5  Wyoming   Weston County, WY    2020         6743  right_only\n",
       "\n",
       "[83257 rows x 6 columns]"
      ]
     },
     "execution_count": 85,
     "metadata": {},
     "output_type": "execute_result"
    }
   ],
   "source": [
    "to_add_df\n"
   ]
  },
  {
   "cell_type": "code",
   "execution_count": 86,
   "metadata": {},
   "outputs": [],
   "source": [
    "to_add_df.to_csv('/workspaces/pds-2022-turquoise-team/00_source_data/texas_all_data_all_counties.csv')  "
   ]
  },
  {
   "cell_type": "code",
   "execution_count": null,
   "metadata": {},
   "outputs": [],
   "source": []
  }
 ],
 "metadata": {
  "kernelspec": {
   "display_name": "Python 3",
   "language": "python",
   "name": "python3"
  },
  "language_info": {
   "codemirror_mode": {
    "name": "ipython",
    "version": 3
   },
   "file_extension": ".py",
   "mimetype": "text/x-python",
   "name": "python",
   "nbconvert_exporter": "python",
   "pygments_lexer": "ipython3",
   "version": "3.10.4"
  },
  "orig_nbformat": 4,
  "vscode": {
   "interpreter": {
    "hash": "3ad933181bd8a04b432d3370b9dc3b0662ad032c4dfaa4e4f1596c548f763858"
   }
  }
 },
 "nbformat": 4,
 "nbformat_minor": 2
}
